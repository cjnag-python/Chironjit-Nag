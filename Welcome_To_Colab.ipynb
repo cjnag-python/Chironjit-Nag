{
  "cells": [
    {
      "cell_type": "code",
      "source": [
        "# Project on EDGE (Introduction to Programming with Python)\n",
        "\n",
        "# Simple Calculator Using Python Code\n",
        "\n",
        "def sum(m, n):\n",
        "    return m + n\n",
        "\n",
        "\n",
        "def subtract(m, n):\n",
        "    return m - n\n",
        "\n",
        "\n",
        "def product(m, n):\n",
        "    return m * n\n",
        "\n",
        "\n",
        "def divide(m, n):\n",
        "    return m / n\n",
        "\n",
        "\n",
        "print(\"Select operation.\")\n",
        "print(\"1.Sum\")\n",
        "print(\"2.Subtract\")\n",
        "print(\"3.product\")\n",
        "print(\"4.Divide\")\n",
        "\n",
        "while True:\n",
        "\n",
        "    choice = input(\"Enter choice(1/2/3/4): \")\n",
        "\n",
        "\n",
        "    if choice in ('1', '2', '3', '4'):\n",
        "        try:\n",
        "            num1 = float(input(\"Enter first number: \"))\n",
        "            num2 = float(input(\"Enter second number: \"))\n",
        "        except ValueError:\n",
        "            print(\"Invalid input. Please enter a number.\")\n",
        "            continue\n",
        "\n",
        "        if choice == '1':\n",
        "            print(num1, \"+\", num2, \"=\", sum(num1, num2))\n",
        "\n",
        "        elif choice == '2':\n",
        "            print(num1, \"-\", num2, \"=\", subtract(num1, num2))\n",
        "\n",
        "        elif choice == '3':\n",
        "            print(num1, \"*\", num2, \"=\", multiply(num1, num2))\n",
        "\n",
        "        elif choice == '4':\n",
        "            print(num1, \"/\", num2, \"=\", divide(num1, num2))\n",
        "\n",
        "\n",
        "        next_calculation = input(\"Let's do next calculation? (yes/no): \")\n",
        "        if next_calculation == \"no\":\n",
        "          break\n",
        "    else:\n",
        "        print(\"Invalid Input\")"
      ],
      "metadata": {
        "colab": {
          "base_uri": "https://localhost:8080/"
        },
        "id": "munr_47aZQdQ",
        "outputId": "f2a717b8-c8d4-4b15-c0fb-4599337c2439"
      },
      "execution_count": null,
      "outputs": [
        {
          "output_type": "stream",
          "name": "stdout",
          "text": [
            "Select operation.\n",
            "1.Sum\n",
            "2.Subtract\n",
            "3.product\n",
            "4.Divide\n"
          ]
        }
      ]
    }
  ],
  "metadata": {
    "colab": {
      "name": "Welcome To Colab",
      "toc_visible": true,
      "provenance": []
    },
    "kernelspec": {
      "display_name": "Python 3",
      "name": "python3"
    }
  },
  "nbformat": 4,
  "nbformat_minor": 0
}